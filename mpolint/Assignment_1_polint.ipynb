{
  "cells": [
    {
      "cell_type": "code",
      "execution_count": 1,
      "metadata": {
        "colab": {
          "base_uri": "https://localhost:8080/"
        },
        "id": "iPffhP6rNbYv",
        "outputId": "5b82136b-1fd2-4549-f290-f3ca32c85344"
      },
      "outputs": [
        {
          "name": "stdout",
          "output_type": "stream",
          "text": [
            "Overwriting polint.f90\n"
          ]
        }
      ],
      "source": [
        "%%file polint.f90\n",
        "SUBROUTINE polint(xa, ya, n, x, y, dy)\n",
        "INTEGER, PARAMETER :: NMAX = 10\n",
        "INTEGER :: n,i, m, ns\n",
        "REAL*8, intent(in) :: x\n",
        "REAL*8, intent(out) :: y, dy\n",
        "REAL*8, intent(in), DIMENSION(n) :: xa, ya\n",
        "REAL*8, DIMENSION(NMAX) :: c, d\n",
        "REAL*8 :: den, dif, dift, ho, hp, w\n",
        "\n",
        "!f2py intent(in) xa,ya,x\n",
        "!f2py intent(out) y,dy\n",
        "!f2py intent(hide) c,d\n",
        "\n",
        "\n",
        "! Initialize\n",
        "ns = 1\n",
        "dif = ABS(x - xa(1))\n",
        "\n",
        "! Find the closest point\n",
        "DO i = 1, n\n",
        "dift = ABS(x - xa(i))\n",
        "IF (dift < dif) THEN\n",
        "        ns = i\n",
        "        dif = dift\n",
        "END IF\n",
        "c(i) = ya(i)\n",
        "d(i) = ya(i)\n",
        "END DO\n",
        "\n",
        "y = ya(ns)\n",
        "ns = ns - 1\n",
        "\n",
        "! Perform the interpolation\n",
        "DO m = 1, n-1\n",
        "DO i = 1, n-m\n",
        "        ho = xa(i) - x\n",
        "        hp = xa(i+m) - x\n",
        "        w = c(i+1) - d(i)\n",
        "        den = ho - hp\n",
        "        IF (den == 0.0) THEN\n",
        "        PRINT *, 'Failure in polint: division by zero'\n",
        "        STOP\n",
        "        END IF\n",
        "        den = w / den\n",
        "        d(i) = hp * den\n",
        "        c(i) = ho * den\n",
        "END DO\n",
        "IF (2 * ns < n - m) THEN\n",
        "        dy = c(ns + 1)\n",
        "ELSE\n",
        "        dy = d(ns)\n",
        "        ns = ns - 1\n",
        "END IF\n",
        "y = y + dy\n",
        "END DO\n",
        "\n",
        "RETURN\n",
        "END subroutine polint"
      ]
    },
    {
      "cell_type": "code",
      "execution_count": 1,
      "metadata": {
        "id": "VoaY1m38L5B2"
      },
      "outputs": [],
      "source": [
        "import os, sys"
      ]
    },
    {
      "cell_type": "code",
      "execution_count": 3,
      "metadata": {
        "colab": {
          "base_uri": "https://localhost:8080/"
        },
        "id": "2S0rhHc7Loc2",
        "outputId": "52a36481-7378-4feb-e799-7199fc1268c6"
      },
      "outputs": [
        {
          "name": "stdout",
          "output_type": "stream",
          "text": [
            "Could not locate executable g77\n",
            "Could not locate executable f77\n",
            "Could not locate executable ifort\n",
            "Could not locate executable ifl\n",
            "Could not locate executable f90\n",
            "Could not locate executable DF\n",
            "Could not locate executable efl\n"
          ]
        },
        {
          "name": "stderr",
          "output_type": "stream",
          "text": [
            "d:\\Anaconda\\lib\\site-packages\\setuptools\\_distutils\\cmd.py:66: SetuptoolsDeprecationWarning: setup.py install is deprecated.\n",
            "!!\n",
            "\n",
            "        ********************************************************************************\n",
            "        Please avoid running ``setup.py`` directly.\n",
            "        Instead, use pypa/build, pypa/installer or other\n",
            "        standards-based tools.\n",
            "\n",
            "        See https://blog.ganssle.io/articles/2021/10/setup-py-deprecated.html for details.\n",
            "        ********************************************************************************\n",
            "\n",
            "!!\n",
            "  self.initialize_options()\n",
            "Using built-in specs.\n",
            "COLLECT_GCC=C:\\msys64\\ucrt64\\bin\\gfortran.exe\n",
            "COLLECT_LTO_WRAPPER=C:/msys64/ucrt64/bin/../lib/gcc/x86_64-w64-mingw32/14.2.0/lto-wrapper.exe\n",
            "Target: x86_64-w64-mingw32\n",
            "Configured with: ../gcc-14.2.0/configure --prefix=/ucrt64 --with-local-prefix=/ucrt64/local --build=x86_64-w64-mingw32 --host=x86_64-w64-mingw32 --target=x86_64-w64-mingw32 --with-native-system-header-dir=/ucrt64/include --libexecdir=/ucrt64/lib --enable-bootstrap --enable-checking=release --with-arch=nocona --with-tune=generic --enable-languages=c,lto,c++,fortran,ada,objc,obj-c++,rust,jit --enable-shared --enable-static --enable-libatomic --enable-threads=posix --enable-graphite --enable-fully-dynamic-string --enable-libstdcxx-filesystem-ts --enable-libstdcxx-time --disable-libstdcxx-pch --enable-lto --enable-libgomp --disable-libssp --disable-multilib --disable-rpath --disable-win32-registry --disable-nls --disable-werror --disable-symvers --with-libiconv --with-system-zlib --with-gmp=/ucrt64 --with-mpfr=/ucrt64 --with-mpc=/ucrt64 --with-isl=/ucrt64 --with-pkgversion='Rev1, Built by MSYS2 project' --with-bugurl=https://github.com/msys2/MINGW-packages/issues --with-gnu-as --with-gnu-ld --disable-libstdcxx-debug --enable-plugin --with-boot-ldflags=-static-libstdc++ --with-stage1-ldflags=-static-libstdc++\n",
            "Thread model: posix\n",
            "Supported LTO compression algorithms: zlib zstd\n",
            "gcc version 14.2.0 (Rev1, Built by MSYS2 project) \n",
            "Using built-in specs.\n",
            "COLLECT_GCC=C:\\msys64\\ucrt64\\bin\\gfortran.exe\n",
            "COLLECT_LTO_WRAPPER=C:/msys64/ucrt64/bin/../lib/gcc/x86_64-w64-mingw32/14.2.0/lto-wrapper.exe\n",
            "Target: x86_64-w64-mingw32\n",
            "Configured with: ../gcc-14.2.0/configure --prefix=/ucrt64 --with-local-prefix=/ucrt64/local --build=x86_64-w64-mingw32 --host=x86_64-w64-mingw32 --target=x86_64-w64-mingw32 --with-native-system-header-dir=/ucrt64/include --libexecdir=/ucrt64/lib --enable-bootstrap --enable-checking=release --with-arch=nocona --with-tune=generic --enable-languages=c,lto,c++,fortran,ada,objc,obj-c++,rust,jit --enable-shared --enable-static --enable-libatomic --enable-threads=posix --enable-graphite --enable-fully-dynamic-string --enable-libstdcxx-filesystem-ts --enable-libstdcxx-time --disable-libstdcxx-pch --enable-lto --enable-libgomp --disable-libssp --disable-multilib --disable-rpath --disable-win32-registry --disable-nls --disable-werror --disable-symvers --with-libiconv --with-system-zlib --with-gmp=/ucrt64 --with-mpfr=/ucrt64 --with-mpc=/ucrt64 --with-isl=/ucrt64 --with-pkgversion='Rev1, Built by MSYS2 project' --with-bugurl=https://github.com/msys2/MINGW-packages/issues --with-gnu-as --with-gnu-ld --disable-libstdcxx-debug --enable-plugin --with-boot-ldflags=-static-libstdc++ --with-stage1-ldflags=-static-libstdc++\n",
            "Thread model: posix\n",
            "Supported LTO compression algorithms: zlib zstd\n",
            "gcc version 14.2.0 (Rev1, Built by MSYS2 project) \n",
            "d:\\Anaconda\\lib\\site-packages\\setuptools\\_distutils\\_msvccompiler.py:542: UserWarning: Fallback spawn triggered. Please update distutils monkeypatch.\n",
            "  warnings.warn(\"Fallback spawn triggered. Please update distutils monkeypatch.\")\n"
          ]
        }
      ],
      "source": [
        "!{sys.executable} -m numpy.f2py --quiet -c polint.f90 -m mpolint"
      ]
    },
    {
      "cell_type": "code",
      "execution_count": 2,
      "metadata": {},
      "outputs": [
        {
          "data": {
            "text/plain": [
              "'d:\\\\Computation methods'"
            ]
          },
          "execution_count": 2,
          "metadata": {},
          "output_type": "execute_result"
        }
      ],
      "source": [
        "%pwd"
      ]
    },
    {
      "cell_type": "code",
      "execution_count": 6,
      "metadata": {
        "colab": {
          "base_uri": "https://localhost:8080/",
          "height": 904
        },
        "id": "nBL139ijL0Dx",
        "outputId": "6aa02346-30be-4c75-900c-1ea6eff71031"
      },
      "outputs": [
        {
          "ename": "ImportError",
          "evalue": "DLL load failed while importing mpolint: The specified module could not be found.",
          "output_type": "error",
          "traceback": [
            "\u001b[1;31m---------------------------------------------------------------------------\u001b[0m",
            "\u001b[1;31mImportError\u001b[0m                               Traceback (most recent call last)",
            "Cell \u001b[1;32mIn[6], line 4\u001b[0m\n\u001b[0;32m      2\u001b[0m \u001b[38;5;28;01mfrom\u001b[39;00m \u001b[38;5;21;01mscipy\u001b[39;00m \u001b[38;5;28;01mimport\u001b[39;00m \u001b[38;5;241m*\u001b[39m\n\u001b[0;32m      3\u001b[0m \u001b[38;5;28;01mfrom\u001b[39;00m \u001b[38;5;21;01mmatplotlib\u001b[39;00m\u001b[38;5;21;01m.\u001b[39;00m\u001b[38;5;21;01mpyplot\u001b[39;00m \u001b[38;5;28;01mimport\u001b[39;00m \u001b[38;5;241m*\u001b[39m\n\u001b[1;32m----> 4\u001b[0m \u001b[38;5;28;01mimport\u001b[39;00m \u001b[38;5;21;01mmpolint\u001b[39;00m \u001b[38;5;28;01mas\u001b[39;00m \u001b[38;5;21;01mp\u001b[39;00m\n\u001b[0;32m      5\u001b[0m \u001b[38;5;28;01mfrom\u001b[39;00m \u001b[38;5;21;01mnumpy\u001b[39;00m \u001b[38;5;28;01mimport\u001b[39;00m sin,linspace,array \u001b[38;5;66;03m# sin, linspace and\u001b[39;00m\n\u001b[0;32m      6\u001b[0m \u001b[38;5;66;03m# array used to be part of scipy but have been shifted to\u001b[39;00m\n\u001b[0;32m      7\u001b[0m \u001b[38;5;66;03m# numpy\u001b[39;00m\n",
            "\u001b[1;31mImportError\u001b[0m: DLL load failed while importing mpolint: The specified module could not be found."
          ]
        }
      ],
      "source": [
        "# script to test the polint module\n",
        "from scipy import *\n",
        "from matplotlib.pyplot import *\n",
        "import mpolint as p\n",
        "from numpy import sin,linspace,array # sin, linspace and\n",
        "# array used to be part of scipy but have been shifted to\n",
        "# numpy\n",
        "from numpy import pi\n",
        "# interpolate on a table of sin(x) as a test\n",
        "xx=linspace(0,2*pi,10) #\n",
        "# create\n",
        "yy=xx*sin(xx)\n",
        "x=linspace(-pi,3*pi,501) # points at which to interpolate\n",
        "y=[p.polint(xx,yy,w)[0] for w in x]\n",
        "dy=[p.polint(xx,yy,w)[1] for w in x]\n",
        "# plot the outputs\n",
        "figure(1)\n",
        "plot(xx,yy,\"ro\",x,y,\"r\",x,x*sin(x),\"g\")\n",
        "title(\"Interpolating sin(x)\")\n",
        "legend([\"Table values\",\"Interpolated values\",\"True function\"])\n",
        "figure(2)\n",
        "1\n",
        "semilogy(x,abs(array(dy)),\"r\",x,abs(array(x*sin(x)-y)),\"g\")\n",
        "title(\"Estimated\")\n",
        "legend([\"Estimated Error\",\"True Error\"])\n",
        "show()\n",
        "p.polint"
      ]
    },
    {
      "cell_type": "code",
      "execution_count": 1,
      "metadata": {
        "id": "kwOZClhDMGAB"
      },
      "outputs": [
        {
          "name": "stdout",
          "output_type": "stream",
          "text": [
            "Polynomial Matrix:\n",
            "          Step 0                                                      Step 1                                                      Step 2                                                      Step 3                                                      Step 4                                                      \n",
            "P[0, :]:0.0                                                         1.23961583701809⋅t                                          -2.47923167403618⋅t⋅(t - 0.5) + 2.0⋅t⋅(1.67808631739872⋅t - 0.109617620095157)1.33333333333333⋅t⋅(-2.0⋅(t - 0.75)⋅(1.67808631739872⋅t - 0.109617620095157) +\n",
            " 2.0⋅(t - 0.25)⋅(2.05885288567652⋅t - 0.300000904234059)) - 1.33333333333333⋅(\n",
            "t - 0.75)⋅(-2.47923167403618⋅t⋅(t - 0.5) + 2.0⋅t⋅(1.67808631739872⋅t - 0.10961\n",
            "7620095157))1.0⋅t⋅(-1.33333333333333⋅(t - 1.0)⋅(-2.0⋅(t - 0.75)⋅(1.67808631739872⋅t - 0.10\n",
            "9617620095157) + 2.0⋅(t - 0.25)⋅(2.05885288567652⋅t - 0.300000904234059)) + 1.\n",
            "33333333333333⋅(t - 0.25)⋅(-2.0⋅(t - 1.0)⋅(2.05885288567652⋅t - 0.300000904234\n",
            "059) + 2.0⋅(t - 0.5)⋅(2.38932889913825⋅t - 0.547857914330353))) - (t - 1.0)⋅(1\n",
            ".33333333333333⋅t⋅(-2.0⋅(t - 0.75)⋅(1.67808631739872⋅t - 0.109617620095157) + \n",
            "2.0⋅(t - 0.25)⋅(2.05885288567652⋅t - 0.300000904234059)) - 1.33333333333333⋅(t\n",
            " - 0.75)⋅(-2.47923167403618⋅t⋅(t - 0.5) + 2.0⋅t⋅(1.67808631739872⋅t - 0.109617\n",
            "620095157)))\n",
            "P[1, :]:0.30990395925452296                                         1.67808631739872⋅t - 0.109617620095157                      -2.0⋅(t - 0.75)⋅(1.67808631739872⋅t - 0.109617620095157) + 2.0⋅(t - 0.25)⋅(2.0\n",
            "5885288567652⋅t - 0.300000904234059)-1.33333333333333⋅(t - 1.0)⋅(-2.0⋅(t - 0.75)⋅(1.67808631739872⋅t - 0.109617620\n",
            "095157) + 2.0⋅(t - 0.25)⋅(2.05885288567652⋅t - 0.300000904234059)) + 1.3333333\n",
            "3333333⋅(t - 0.25)⋅(-2.0⋅(t - 1.0)⋅(2.05885288567652⋅t - 0.300000904234059) + \n",
            "2.0⋅(t - 0.5)⋅(2.38932889913825⋅t - 0.547857914330353))                                                            \n",
            "P[2, :]:0.729425538604203                                           2.05885288567652⋅t - 0.300000904234059                      -2.0⋅(t - 1.0)⋅(2.05885288567652⋅t - 0.300000904234059) + 2.0⋅(t - 0.5)⋅(2.389\n",
            "32889913825⋅t - 0.547857914330353)                                                                                                                        \n",
            "P[3, :]:1.244138760023334                                           2.38932889913825⋅t - 0.547857914330353                                                                                                                                                                                                          \n",
            "P[4, :]:1.8414709848078965                                                                                                                                                                                                                                                                                          \n",
            "Step 1: Polynomial expression:\n",
            "1.23961583701809⋅t\n",
            "\n",
            "Step 2: Polynomial expression:\n",
            "t⋅(0.876940960761257⋅t + 1.02038059682778)\n",
            "\n",
            "Step 3: Polynomial expression:\n",
            "  ⎛                     2                                         ⎞\n",
            "t⋅⎝- 0.153877098940865⋅t  + 0.992348784966905⋅t + 1.00114595946017⎠\n",
            "\n",
            "Step 4: Polynomial expression:\n",
            "  ⎛                    3                      2                               \n",
            "t⋅⎝0.0197689527646581⋅t  - 0.183530528087851⋅t  + 1.00593993999261⋅t + 0.99929\n",
            "\n",
            "          ⎞\n",
            "2620138483⎠\n",
            "\n"
          ]
        }
      ],
      "source": [
        "import numpy as np\n",
        "import sympy as sp\n",
        "\n",
        "def neville_algorithm(x, y):\n",
        "    \"\"\"\n",
        "    Neville's Algorithm for polynomial interpolation with printing of polynomial expressions at each step.\n",
        "    \n",
        "    Args:\n",
        "    x : array-like\n",
        "        The x-coordinates of the known points.\n",
        "    y : array-like\n",
        "        The y-coordinates of the known points.\n",
        "    \n",
        "    Returns:\n",
        "    None\n",
        "    \"\"\"\n",
        "    n = len(x)\n",
        "    # Create a matrix to store polynomial expressions\n",
        "    P = np.empty((n, n), dtype=object)\n",
        "\n",
        "    # Define the symbol for the variable\n",
        "    t = sp.symbols('t')\n",
        "\n",
        "    # Initialize the first column of P with y-values\n",
        "    for i in range(n):\n",
        "        P[i, 0] = y[i]\n",
        "    \n",
        "    # Compute the polynomial at each step\n",
        "    for j in range(1, n):\n",
        "        for i in range(n - j):\n",
        "            P[i, j] = ((t - x[i]) * P[i + 1, j - 1] - (t - x[i + j]) * P[i, j - 1]) / (x[i + j] - x[i])\n",
        "    \n",
        "    # Print the polynomial matrix\n",
        "    print(\"Polynomial Matrix:\")\n",
        "    header = [\"Step 0\"] + [f\"Step {i}\" for i in range(1, n)]\n",
        "    print(f\"{'':<10}\", end=\"\")\n",
        "    for h in header:\n",
        "        print(f\"{h:<60}\", end=\"\")\n",
        "    print()\n",
        "    \n",
        "    for i in range(n):\n",
        "        print(f\"P[{i}, :]:\", end=\"\")\n",
        "        for j in range(n):\n",
        "            expr = P[i, j]\n",
        "            if expr is not None:\n",
        "                # Convert the expression to a string\n",
        "                expr_str = sp.pretty(expr, use_unicode=True)\n",
        "                print(f\"{expr_str:<60}\", end=\"\")\n",
        "            else:\n",
        "                print(f\"{'':<60}\", end=\"\")\n",
        "        print()\n",
        "    \n",
        "    # Print polynomial expressions for each step\n",
        "    for j in range(1, n):\n",
        "        polynomial_expr = P[0, j]\n",
        "        simplified_poly = sp.simplify(polynomial_expr)\n",
        "        print(f\"Step {j}: Polynomial expression:\")\n",
        "        # Convert the expression to a string\n",
        "        polynomial_expr_str = sp.pretty(simplified_poly, use_unicode=True)\n",
        "        print(polynomial_expr_str)\n",
        "        print()\n",
        "\n",
        "# Sample data points\n",
        "x_sample = np.linspace(0, 1, 5)  # 5 equally spaced points from 0 to 1\n",
        "y_sample = np.sin(x_sample) + x_sample**2  # Function values at sample points\n",
        "\n",
        "# Run Neville's algorithm and print polynomial expressions\n",
        "neville_algorithm(x_sample, y_sample)"
      ]
    },
    {
      "cell_type": "code",
      "execution_count": null,
      "metadata": {},
      "outputs": [],
      "source": []
    }
  ],
  "metadata": {
    "colab": {
      "provenance": []
    },
    "kernelspec": {
      "display_name": "Python 3",
      "name": "python3"
    },
    "language_info": {
      "codemirror_mode": {
        "name": "ipython",
        "version": 3
      },
      "file_extension": ".py",
      "mimetype": "text/x-python",
      "name": "python",
      "nbconvert_exporter": "python",
      "pygments_lexer": "ipython3",
      "version": "3.9.19"
    }
  },
  "nbformat": 4,
  "nbformat_minor": 0
}
