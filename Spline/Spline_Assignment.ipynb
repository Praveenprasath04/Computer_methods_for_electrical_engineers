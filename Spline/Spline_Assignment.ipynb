{
  "cells": [
    {
      "cell_type": "code",
      "execution_count": 1,
      "metadata": {
        "colab": {
          "base_uri": "https://localhost:8080/"
        },
        "id": "0y47wvLGVZiL",
        "outputId": "21d0b0e7-32b3-49d7-865c-b66443dd68fd"
      },
      "outputs": [
        {
          "name": "stdout",
          "output_type": "stream",
          "text": [
            "Writing spline.f90\n"
          ]
        }
      ],
      "source": [
        "%%file spline.f90\n",
        "\n",
        "SUBROUTINE spline(x,y,n,yp1,ypn,y2)\n",
        "INTEGER n,NMAX\n",
        "REAL yp1,ypn,x(n),y(n),y2(n)\n",
        "PARAMETER (NMAX=500)\n",
        "INTEGER i,k\n",
        "REAL p,qn,sig,un,u(NMAX)\n",
        "if (yp1.gt..99e30) then\n",
        "  y2(1)=0.\n",
        "  u(1)=0.\n",
        "else\n",
        "  y2(1)=-0.5\n",
        "  u(1)=(3./(x(2)-x(1)))*((y(2)-y(1))/(x(2)-x(1))-yp1)\n",
        "endif\n",
        "do 11 i=2,n-1\n",
        "  sig=(x(i)-x(i-1))/(x(i+1)-x(i-1))\n",
        "  p=sig*y2(i-1)+2.\n",
        "  y2(i)=(sig-1.)/p\n",
        "  u(i)=(6.*((y(i+1)-y(i))/(x(i+1)-x(i))-(y(i)-y(i-1)) /(x(i)-x(i-1)))/(x(i+1)-x(i-1))-sig*u(i-1))/p\n",
        "enddo 11\n",
        "if (ypn.gt..99e30) then\n",
        "  qn=0.\n",
        "  un=0.\n",
        "else\n",
        "  qn=0.5\n",
        "  un=(3./(x(n)-x(n-1)))*(ypn-(y(n)-y(n-1))/(x(n)-x(n-1)))\n",
        "endif\n",
        "y2(n)=(un-qn*u(n-1))/(qn*y2(n-1)+1.)\n",
        "do 12 k=n-1,1,-1\n",
        "  y2(k)=y2(k)*y2(k+1)+u(k)\n",
        "enddo 12\n",
        "return\n",
        "END"
      ]
    },
    {
      "cell_type": "code",
      "execution_count": 2,
      "metadata": {
        "colab": {
          "base_uri": "https://localhost:8080/"
        },
        "id": "Dlox2vCp_cya",
        "outputId": "0bb71409-ff72-48b1-dd34-80cb88254dc8"
      },
      "outputs": [
        {
          "name": "stdout",
          "output_type": "stream",
          "text": [
            "Writing splint.f90\n"
          ]
        }
      ],
      "source": [
        "%%file splint.f90\n",
        "\n",
        "SUBROUTINE splint(xa,ya,y2a,n,x,y)\n",
        "INTEGER n\n",
        "REAL x,y,xa(n),y2a(n),ya(n)\n",
        "\n",
        "INTEGER k,khi,klo\n",
        "REAL a,b,h\n",
        "klo=1\n",
        "khi=n\n",
        "1 if (khi-klo.gt.1) then\n",
        "k=(khi+klo)/2\n",
        "if(xa(k).gt.x)then\n",
        "khi=k\n",
        "else\n",
        "klo=k\n",
        "endif\n",
        "goto 1\n",
        "endif\n",
        "h=xa(khi)-xa(klo)\n",
        "if (h.eq.0.) pause ’bad xa input in splint’\n",
        "a=(xa(khi)-x)/h\n",
        "b=(x-xa(klo))/h\n",
        "y=a*ya(klo)+b*ya(khi)+((a**3-a)*y2a(klo)+(b**3-b)*y2a(khi))*(h**2)/6.\n",
        "return\n",
        "END"
      ]
    },
    {
      "cell_type": "code",
      "execution_count": 3,
      "metadata": {
        "colab": {
          "base_uri": "https://localhost:8080/",
          "height": 385
        },
        "id": "IPPmDOxA_9xg",
        "outputId": "8e320239-d70b-4022-f572-ceab24999837"
      },
      "outputs": [
        {
          "name": "stderr",
          "output_type": "stream",
          "text": [
            "d:\\Anaconda\\lib\\site-packages\\paramiko\\transport.py:219: CryptographyDeprecationWarning: Blowfish has been deprecated and will be removed in a future release\n",
            "  \"class\": algorithms.Blowfish,\n"
          ]
        },
        {
          "ename": "AttributeError",
          "evalue": "module 'distutils.sysconfig' has no attribute '_init_posix'",
          "output_type": "error",
          "traceback": [
            "\u001b[1;31m---------------------------------------------------------------------------\u001b[0m",
            "\u001b[1;31mAttributeError\u001b[0m                            Traceback (most recent call last)",
            "Cell \u001b[1;32mIn[3], line 3\u001b[0m\n\u001b[0;32m      1\u001b[0m \u001b[38;5;28;01mfrom\u001b[39;00m \u001b[38;5;21;01mscipy\u001b[39;00m \u001b[38;5;28;01mimport\u001b[39;00m \u001b[38;5;241m*\u001b[39m\n\u001b[0;32m      2\u001b[0m \u001b[38;5;28;01mfrom\u001b[39;00m \u001b[38;5;21;01mmatplotlib\u001b[39;00m\u001b[38;5;21;01m.\u001b[39;00m\u001b[38;5;21;01mpyplot\u001b[39;00m \u001b[38;5;28;01mimport\u001b[39;00m \u001b[38;5;241m*\u001b[39m\n\u001b[1;32m----> 3\u001b[0m \u001b[38;5;28;01mimport\u001b[39;00m \u001b[38;5;21;01mweave\u001b[39;00m\n\u001b[0;32m      4\u001b[0m \u001b[38;5;66;03m# define support code\u001b[39;00m\n\u001b[0;32m      5\u001b[0m \u001b[38;5;28;01mwith\u001b[39;00m \u001b[38;5;28mopen\u001b[39m(\u001b[38;5;124m\"\u001b[39m\u001b[38;5;124mspline.c\u001b[39m\u001b[38;5;124m\"\u001b[39m,\u001b[38;5;124m\"\u001b[39m\u001b[38;5;124mr\u001b[39m\u001b[38;5;124m\"\u001b[39m) \u001b[38;5;28;01mas\u001b[39;00m f:\n",
            "File \u001b[1;32md:\\Anaconda\\lib\\site-packages\\weave\\__init__.py:25\u001b[0m\n\u001b[0;32m     21\u001b[0m \u001b[38;5;28;01mimport\u001b[39;00m \u001b[38;5;21;01msys\u001b[39;00m\n\u001b[0;32m     23\u001b[0m \u001b[38;5;28;01mfrom\u001b[39;00m \u001b[38;5;21;01mweave\u001b[39;00m\u001b[38;5;21;01m.\u001b[39;00m\u001b[38;5;21;01mversion\u001b[39;00m \u001b[38;5;28;01mimport\u001b[39;00m version \u001b[38;5;28;01mas\u001b[39;00m __version__\n\u001b[1;32m---> 25\u001b[0m \u001b[38;5;28;01mfrom\u001b[39;00m \u001b[38;5;21;01m.\u001b[39;00m\u001b[38;5;21;01mblitz_tools\u001b[39;00m \u001b[38;5;28;01mimport\u001b[39;00m blitz, BlitzWarning\n\u001b[0;32m     26\u001b[0m \u001b[38;5;28;01mfrom\u001b[39;00m \u001b[38;5;21;01m.\u001b[39;00m\u001b[38;5;21;01minline_tools\u001b[39;00m \u001b[38;5;28;01mimport\u001b[39;00m inline\n\u001b[0;32m     27\u001b[0m \u001b[38;5;28;01mfrom\u001b[39;00m \u001b[38;5;21;01m.\u001b[39;00m \u001b[38;5;28;01mimport\u001b[39;00m ext_tools\n",
            "File \u001b[1;32md:\\Anaconda\\lib\\site-packages\\weave\\blitz_tools.py:14\u001b[0m\n\u001b[0;32m     12\u001b[0m \u001b[38;5;28;01mfrom\u001b[39;00m \u001b[38;5;21;01m.\u001b[39;00m \u001b[38;5;28;01mimport\u001b[39;00m size_check\n\u001b[0;32m     13\u001b[0m \u001b[38;5;28;01mfrom\u001b[39;00m \u001b[38;5;21;01m.\u001b[39;00m \u001b[38;5;28;01mimport\u001b[39;00m converters\n\u001b[1;32m---> 14\u001b[0m \u001b[38;5;28;01mfrom\u001b[39;00m \u001b[38;5;21;01m.\u001b[39;00m \u001b[38;5;28;01mimport\u001b[39;00m inline_tools\n\u001b[0;32m     15\u001b[0m \u001b[38;5;28;01mfrom\u001b[39;00m \u001b[38;5;21;01m.\u001b[39;00m\u001b[38;5;21;01minline_tools\u001b[39;00m \u001b[38;5;28;01mimport\u001b[39;00m attempt_function_call\n\u001b[0;32m     16\u001b[0m function_catalog \u001b[38;5;241m=\u001b[39m inline_tools\u001b[38;5;241m.\u001b[39mfunction_catalog\n",
            "File \u001b[1;32md:\\Anaconda\\lib\\site-packages\\weave\\inline_tools.py:7\u001b[0m\n\u001b[0;32m      5\u001b[0m \u001b[38;5;28;01mimport\u001b[39;00m \u001b[38;5;21;01msys\u001b[39;00m\n\u001b[0;32m      6\u001b[0m \u001b[38;5;28;01mimport\u001b[39;00m \u001b[38;5;21;01mos\u001b[39;00m\n\u001b[1;32m----> 7\u001b[0m \u001b[38;5;28;01mfrom\u001b[39;00m \u001b[38;5;21;01m.\u001b[39;00m \u001b[38;5;28;01mimport\u001b[39;00m ext_tools\n\u001b[0;32m      8\u001b[0m \u001b[38;5;28;01mfrom\u001b[39;00m \u001b[38;5;21;01m.\u001b[39;00m \u001b[38;5;28;01mimport\u001b[39;00m catalog\n\u001b[0;32m      9\u001b[0m \u001b[38;5;28;01mfrom\u001b[39;00m \u001b[38;5;21;01m.\u001b[39;00m \u001b[38;5;28;01mimport\u001b[39;00m common_info\n",
            "File \u001b[1;32md:\\Anaconda\\lib\\site-packages\\weave\\ext_tools.py:9\u001b[0m\n\u001b[0;32m      6\u001b[0m \u001b[38;5;28;01mimport\u001b[39;00m \u001b[38;5;21;01mio\u001b[39;00m\n\u001b[0;32m      8\u001b[0m \u001b[38;5;28;01mfrom\u001b[39;00m \u001b[38;5;21;01m.\u001b[39;00m \u001b[38;5;28;01mimport\u001b[39;00m catalog\n\u001b[1;32m----> 9\u001b[0m \u001b[38;5;28;01mfrom\u001b[39;00m \u001b[38;5;21;01m.\u001b[39;00m \u001b[38;5;28;01mimport\u001b[39;00m build_tools\n\u001b[0;32m     10\u001b[0m \u001b[38;5;28;01mfrom\u001b[39;00m \u001b[38;5;21;01m.\u001b[39;00m \u001b[38;5;28;01mimport\u001b[39;00m converters\n\u001b[0;32m     11\u001b[0m \u001b[38;5;28;01mfrom\u001b[39;00m \u001b[38;5;21;01m.\u001b[39;00m \u001b[38;5;28;01mimport\u001b[39;00m base_spec\n",
            "File \u001b[1;32md:\\Anaconda\\lib\\site-packages\\weave\\build_tools.py:39\u001b[0m\n\u001b[0;32m     34\u001b[0m \u001b[38;5;66;03m# some (most?) platforms will fail to link C++ correctly\u001b[39;00m\n\u001b[0;32m     35\u001b[0m \u001b[38;5;66;03m# unless numpy.distutils is used.\u001b[39;00m\n\u001b[0;32m     36\u001b[0m \u001b[38;5;28;01mfrom\u001b[39;00m \u001b[38;5;21;01mnumpy\u001b[39;00m\u001b[38;5;21;01m.\u001b[39;00m\u001b[38;5;21;01mdistutils\u001b[39;00m\u001b[38;5;21;01m.\u001b[39;00m\u001b[38;5;21;01mcore\u001b[39;00m \u001b[38;5;28;01mimport\u001b[39;00m Extension, NumpyDistribution, numpy_cmdclass\n\u001b[1;32m---> 39\u001b[0m old_init_posix \u001b[38;5;241m=\u001b[39m \u001b[43mdistutils\u001b[49m\u001b[38;5;241;43m.\u001b[39;49m\u001b[43msysconfig\u001b[49m\u001b[38;5;241;43m.\u001b[39;49m\u001b[43m_init_posix\u001b[49m\n\u001b[0;32m     42\u001b[0m \u001b[38;5;28;01mdef\u001b[39;00m \u001b[38;5;21m_init_posix\u001b[39m():\n\u001b[0;32m     43\u001b[0m     old_init_posix()\n",
            "\u001b[1;31mAttributeError\u001b[0m: module 'distutils.sysconfig' has no attribute '_init_posix'"
          ]
        }
      ],
      "source": [
        "\n",
        "from scipy import *\n",
        "from matplotlib.pyplot import *\n",
        "import weave\n",
        "# define support code\n",
        "with open(\"spline.c\",\"r\") as f:\n",
        "  scode=f.read()\n",
        "h=logspace(-3,0,16)\n",
        "# h=input(\"Enter h as a numpy vector: \")\n",
        "N=(2.0*pi)/h\n",
        "err=zeros(h.shape)\n",
        "for i in range(len(h)):\n",
        "  x=linspace(0,2*pi,N[i])\n",
        "  y=sin(x)\n",
        "  n=int(N[i])\n",
        "  xx=linspace(0,2*pi,10*n+1)\n",
        "  y2=zeros(x.size)\n",
        "  u=zeros(x.size)\n",
        "  yy=zeros(xx.size)\n",
        "  code=\"\"\"\n",
        "  #include<math.h>\n",
        "  int i;\n",
        "  double xp;\n",
        "  spline(x,y,n,cos(x[0]),cos(x[n-1]),y2,u);\n",
        "  for(i=0;i<=10*n;i++){\n",
        "  xp=xx[i];\n",
        "  splint(x,y,y2,n,xp,yy+i);\n",
        "  }\n",
        "\"\"\"\n",
        "  weave.inline(code,[\"x\",\"y\",\"n\",\"y2\",\"u\",\"xx\",\"yy\"],\\\n",
        "  support_code=scode,extra_compile_args=[\"-g\"],\\\n",
        "  compiler=\"gcc\")\n",
        "  if i==0:\n",
        "    figure(0)\n",
        "    plot(x,y,\"ro\")\n",
        "    plot(xx,yy,\"g\")\n",
        "    title(\"Interpolated values and data points for n=%d\" % N[i])\n",
        "  z=abs(yy-sin(xx))\n",
        "  err[i]=z.max()\n",
        "figure(1)\n",
        "loglog(h,err)\n",
        "title(\"Error vs. spacing\")\n",
        "show()"
      ]
    },
    {
      "cell_type": "code",
      "execution_count": 1,
      "metadata": {
        "colab": {
          "base_uri": "https://localhost:8080/"
        },
        "id": "ektcBdn7Bs6R",
        "outputId": "dfdf7fb9-f55a-441b-a11d-35f281904499"
      },
      "outputs": [
        {
          "name": "stdout",
          "output_type": "stream",
          "text": [
            "Collecting scipy-weave\n",
            "  Downloading scipy-weave-0.18.0.tar.gz (573 kB)\n",
            "     ---------------------------------------- 0.0/573.9 kB ? eta -:--:--\n",
            "     -------------------------------------- 573.9/573.9 kB 6.6 MB/s eta 0:00:00\n",
            "  Preparing metadata (setup.py): started\n",
            "  Preparing metadata (setup.py): finished with status 'error'\n"
          ]
        },
        {
          "name": "stderr",
          "output_type": "stream",
          "text": [
            "  error: subprocess-exited-with-error\n",
            "  \n",
            "  × python setup.py egg_info did not run successfully.\n",
            "  │ exit code: 1\n",
            "  ╰─> [6 lines of output]\n",
            "      Traceback (most recent call last):\n",
            "        File \"<string>\", line 2, in <module>\n",
            "        File \"<pip-setuptools-caller>\", line 34, in <module>\n",
            "        File \"C:\\Users\\bprav\\AppData\\Local\\Temp\\pip-install-4ne8_h0b\\scipy-weave_7d4c297c48b14d2bbfc45ccf0a087f5a\\setup.py\", line 32, in <module>\n",
            "          raise RuntimeError(\"Python version 2.6 or 2.7 required.\")\n",
            "      RuntimeError: Python version 2.6 or 2.7 required.\n",
            "      [end of output]\n",
            "  \n",
            "  note: This error originates from a subprocess, and is likely not a problem with pip.\n",
            "error: metadata-generation-failed\n",
            "\n",
            "× Encountered error while generating package metadata.\n",
            "╰─> See above for output.\n",
            "\n",
            "note: This is an issue with the package mentioned above, not pip.\n",
            "hint: See above for details.\n"
          ]
        }
      ],
      "source": [
        "!pip install scipy-weave\n"
      ]
    },
    {
      "cell_type": "code",
      "execution_count": 12,
      "metadata": {
        "colab": {
          "base_uri": "https://localhost:8080/"
        },
        "id": "WkS2dB1bB-Lt",
        "outputId": "caa242d5-7151-4ce9-feab-21b0717f625e"
      },
      "outputs": [
        {
          "name": "stdout",
          "output_type": "stream",
          "text": [
            "Collecting scipy-weave\n",
            "  Using cached scipy-weave-0.18.0.tar.gz (573 kB)\n",
            "  \u001b[1;31merror\u001b[0m: \u001b[1msubprocess-exited-with-error\u001b[0m\n",
            "  \n",
            "  \u001b[31m×\u001b[0m \u001b[32mpython setup.py egg_info\u001b[0m did not run successfully.\n",
            "  \u001b[31m│\u001b[0m exit code: \u001b[1;36m1\u001b[0m\n",
            "  \u001b[31m╰─>\u001b[0m See above for output.\n",
            "  \n",
            "  \u001b[1;35mnote\u001b[0m: This error originates from a subprocess, and is likely not a problem with pip.\n",
            "  Preparing metadata (setup.py) ... \u001b[?25l\u001b[?25herror\n",
            "\u001b[1;31merror\u001b[0m: \u001b[1mmetadata-generation-failed\u001b[0m\n",
            "\n",
            "\u001b[31m×\u001b[0m Encountered error while generating package metadata.\n",
            "\u001b[31m╰─>\u001b[0m See above for output.\n",
            "\n",
            "\u001b[1;35mnote\u001b[0m: This is an issue with the package mentioned above, not pip.\n",
            "\u001b[1;36mhint\u001b[0m: See above for details.\n"
          ]
        }
      ],
      "source": []
    },
    {
      "cell_type": "code",
      "execution_count": null,
      "metadata": {
        "id": "vLjFpVZlCWG8"
      },
      "outputs": [],
      "source": []
    }
  ],
  "metadata": {
    "colab": {
      "provenance": []
    },
    "kernelspec": {
      "display_name": "Python 3",
      "name": "python3"
    },
    "language_info": {
      "codemirror_mode": {
        "name": "ipython",
        "version": 3
      },
      "file_extension": ".py",
      "mimetype": "text/x-python",
      "name": "python",
      "nbconvert_exporter": "python",
      "pygments_lexer": "ipython3",
      "version": "3.12.4"
    }
  },
  "nbformat": 4,
  "nbformat_minor": 0
}
